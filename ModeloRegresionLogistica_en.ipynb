{
  "nbformat": 4,
  "nbformat_minor": 0,
  "metadata": {
    "colab": {
      "provenance": [],
      "mount_file_id": "1RBBxoVS0x-0vsfzeqeW10uBj7lcReVD9",
      "authorship_tag": "ABX9TyM6m1Llfr73+1KP9IRLYCYi",
      "include_colab_link": true
    },
    "kernelspec": {
      "name": "python3",
      "display_name": "Python 3"
    },
    "language_info": {
      "name": "python"
    }
  },
  "cells": [
    {
      "cell_type": "markdown",
      "metadata": {
        "id": "view-in-github",
        "colab_type": "text"
      },
      "source": [
        "<a href=\"https://colab.research.google.com/github/juancaalcaraz/Segmentacionllamadoline137ARGa/blob/main/ModeloRegresionLogistica_en.ipynb\" target=\"_parent\"><img src=\"https://colab.research.google.com/assets/colab-badge.svg\" alt=\"Open In Colab\"/></a>"
      ]
    },
    {
      "cell_type": "markdown",
      "source": [
        "# **<center>Modelo de regresión logística para Hudson Escucha<center>**"
      ],
      "metadata": {
        "id": "6vV1GZTlxueh"
      }
    },
    {
      "cell_type": "markdown",
      "source": [
        "##   Vamos a entrenar un modelo de regresion logística para la clasificacion de sentimientos asociados a los comentarios de redes sociales y de ventas de la marca Hudson.\n",
        "##   Nuestra meta es medir el sentimiento asociado por los clientes hacia la marca Hudson. Para ello este modelo será entrenado con el data set data_sentimientos.csv el cual es una pequeña modificación del data set propuesto por Amazon Home_and_Kitchen_5.json el cual posee cerca de 7 millones de rewies que los usuarios de amazon han hecho sobre ariculos de cocina. Link  [https://cseweb.ucsd.edu/~jmcauley/datasets/amazon_v2/]\n",
        "\n",
        "\n",
        "### Citacion del artículo:\n",
        "### Justifying recommendations using distantly-labeled reviews and fined-grained aspects\n",
        "###Jianmo Ni, Jiacheng Li, Julian McAuley\n",
        "###Empirical Methods in Natural Language Processing (EMNLP), 2019\n",
        "\n",
        "\n"
      ],
      "metadata": {
        "id": "uY4H9bwP52XL"
      }
    },
    {
      "cell_type": "code",
      "execution_count": 1,
      "metadata": {
        "id": "-dU_C4us5VWD"
      },
      "outputs": [],
      "source": [
        "from sklearn.pipeline import Pipeline\n",
        "from sklearn.linear_model import LogisticRegression\n",
        "from sklearn.feature_extraction.text import TfidfVectorizer, CountVectorizer\n",
        "from sklearn.model_selection import GridSearchCV\n",
        "import pandas as pd\n",
        "import numpy as np\n"
      ]
    },
    {
      "cell_type": "code",
      "source": [
        "#cargamos el dataset\n",
        "df = pd.read_csv(\"/content/drive/MyDrive/datasets/data_sentimientos.csv\")"
      ],
      "metadata": {
        "id": "HdMq6-uW6beP"
      },
      "execution_count": 2,
      "outputs": []
    },
    {
      "cell_type": "markdown",
      "source": [
        "## una ves cargado el data set vamos a verificar que tan representadas estan las etiquetas de sentimiento."
      ],
      "metadata": {
        "id": "Gb-Mc09T9SMG"
      }
    },
    {
      "cell_type": "code",
      "source": [
        "#Agrupando y contando las etiquetas\n",
        "df2= df.groupby([\"sentimiento_marca\"])[\"sentimiento_marca\"].count()\n",
        "print(df2)"
      ],
      "metadata": {
        "colab": {
          "base_uri": "https://localhost:8080/"
        },
        "id": "e8jpmbQx9r60",
        "outputId": "5e3b170e-51cd-4284-fb38-21a4958f80fe"
      },
      "execution_count": null,
      "outputs": [
        {
          "output_type": "stream",
          "name": "stdout",
          "text": [
            "sentimiento_marca\n",
            "Excelente    4688044\n",
            "Neutra        513982\n",
            "Pesima        374016\n",
            "Positiva     1033449\n",
            "negativa      289464\n",
            "Name: sentimiento_marca, dtype: int64\n"
          ]
        }
      ]
    },
    {
      "cell_type": "markdown",
      "source": [
        "#Graficámos para ilustrar los resultados.\n"
      ],
      "metadata": {
        "id": "NiLjFPic2syc"
      }
    },
    {
      "cell_type": "code",
      "source": [
        "import matplotlib.pyplot as plt\n",
        "#rot es un parametro de rotacion para las etiquetas.\n",
        "df2.plot(kind='bar', rot=60)\n",
        "plt.xlabel(\"Etiquetas de sentimientos\")\n",
        "plt.ylabel(\"Cantidad en millones\")\n",
        "plt.title(\"Conteo de etiquetas de sentimientos\\n\")\n",
        "plt.show()\n"
      ],
      "metadata": {
        "colab": {
          "base_uri": "https://localhost:8080/",
          "height": 524
        },
        "id": "5XC7A1jyPX1A",
        "outputId": "2ea4ce86-8264-4c23-b11f-54085193596e"
      },
      "execution_count": null,
      "outputs": [
        {
          "output_type": "display_data",
          "data": {
            "text/plain": [
              "<Figure size 640x480 with 1 Axes>"
            ],
            "image/png": "[encoded data removed]"
          },
          "metadata": {}
        }
      ]
    },
    {
      "cell_type": "markdown",
      "source": [
        "## Como pudimos observar la muestra posee considerablemente más etiquetas asociados con un sentimiento excelente, el cual esta sobre representado. Por ello decidimos decidimos igualar las etiquetas de sentimiento a 20.000 muestras aleatorias de cada una.  "
      ],
      "metadata": {
        "id": "VgPLEPI829Ju"
      }
    },
    {
      "cell_type": "code",
      "source": [
        "df[\"reviewText\"] = df[\"reviewText\"].astype(str)\n",
        "df[\"sentimiento_marca\"]= df[\"sentimiento_marca\"].astype(str)\n",
        "#como la muestra posee considerablemente mas etiquetas de excelente, dejamos cada etiqueta con un 20% en un nuevo conjunto\n",
        "#para abordar el desequlibrio de clases y que todas las etiquetas esten bien representadas.\n",
        "\n",
        "#obteniendo varios valores aleatorios para cada etiqueta.\n",
        "excelente_df = df.loc[df[\"sentimiento_marca\"] == \"Excelente\"].sample(n=20000, random_state=42)\n",
        "negativa_df = df.loc[df[\"sentimiento_marca\"] == \"negativa\"].sample(n=20000, random_state=42)\n",
        "pesimo_df = df.loc[df[\"sentimiento_marca\"] == \"Pesima\"].sample(n=20000, random_state=42)\n",
        "neutro_df = df.loc[df[\"sentimiento_marca\"] == \"Neutra\"].sample(n=20000, random_state=42)\n",
        "positivo_df = df.loc[df[\"sentimiento_marca\"] == \"Positiva\"].sample(n=20000, random_state=42)\n",
        "#concatenando y redistribuyendo la muestra\n",
        "combinado_df = pd.concat([excelente_df, negativa_df, pesimo_df, neutro_df, positivo_df])\n",
        "#frac=1 para tomar el 100% de los datos de forma aleatoria, reset_index(drop=True ) para descartar el indice anterior y crear uno nuevo.\n",
        "combinado_df = combinado_df.sample(frac=1).reset_index(drop=True)\n",
        "print(combinado_df.head())"
      ],
      "metadata": {
        "colab": {
          "base_uri": "https://localhost:8080/"
        },
        "id": "zBltsX_aBmZB",
        "outputId": "a5412206-1b10-4a17-ee5c-41bf9a3cde31"
      },
      "execution_count": 4,
      "outputs": [
        {
          "output_type": "stream",
          "name": "stdout",
          "text": [
            "   Unnamed: 0.1  Unnamed: 0  overall  \\\n",
            "0       1297056     1297056      1.0   \n",
            "1        761764      761764      2.0   \n",
            "2       6672036     6672036      5.0   \n",
            "3       3357707     3357707      4.0   \n",
            "4       4688153     4688153      3.0   \n",
            "\n",
            "                                          reviewText  \\\n",
            "0  The bags were not what I expected. They were c...   \n",
            "1  It has come apart and I am unable to use  the ...   \n",
            "2  This throw is super warm and exactly what my d...   \n",
            "3  Doesn't toast evenly, but works pretty well. W...   \n",
            "4  Looks-wise it's super cool. But the handle des...   \n",
            "\n",
            "                                             summary sentimiento_marca  \n",
            "0  I was going to use them for some Easter crafts...            Pesima  \n",
            "1                                          Two Stars          negativa  \n",
            "2                                         Five Stars         Excelente  \n",
            "3  but works pretty well. What can you expect fro...          Positiva  \n",
            "4  Looks-wise it's super cool. But the handle des...            Neutra  \n"
          ]
        }
      ]
    },
    {
      "cell_type": "markdown",
      "source": [
        "## Dividimos el data set para el entrenamiento."
      ],
      "metadata": {
        "id": "Ys-CCW2w-wuP"
      }
    },
    {
      "cell_type": "code",
      "source": [
        "# dividimos el dataset para el enrenamiento.\n",
        "X_train = combinado_df.loc[:75000, 'reviewText'].values\n",
        "y_train = combinado_df.loc[:75000, 'sentimiento_marca'].values\n",
        "X_test = combinado_df.loc[75000:100000, 'reviewText'].values\n",
        "y_test = combinado_df.loc[75000:100000, 'sentimiento_marca'].values"
      ],
      "metadata": {
        "id": "i66q6TqA63vf"
      },
      "execution_count": 5,
      "outputs": []
    },
    {
      "cell_type": "code",
      "source": [
        "!pip install nltk"
      ],
      "metadata": {
        "colab": {
          "base_uri": "https://localhost:8080/"
        },
        "id": "QJJc9-sZ7kXR",
        "outputId": "3653690f-8edf-4a75-b5f2-088820f9c67a"
      },
      "execution_count": null,
      "outputs": [
        {
          "output_type": "stream",
          "name": "stdout",
          "text": [
            "Requirement already satisfied: nltk in /usr/local/lib/python3.10/dist-packages (3.8.1)\n",
            "Requirement already satisfied: click in /usr/local/lib/python3.10/dist-packages (from nltk) (8.1.7)\n",
            "Requirement already satisfied: joblib in /usr/local/lib/python3.10/dist-packages (from nltk) (1.3.2)\n",
            "Requirement already satisfied: regex>=2021.8.3 in /usr/local/lib/python3.10/dist-packages (from nltk) (2023.6.3)\n",
            "Requirement already satisfied: tqdm in /usr/local/lib/python3.10/dist-packages (from nltk) (4.66.1)\n"
          ]
        }
      ]
    },
    {
      "cell_type": "markdown",
      "source": [
        "## tokenizer_porter es utilizado para declinar palabras, es decir, para devolver los verbos a su forma raiz para el análisis. De esta manera palabras como corriendo, leyendo serán devueltas como correr, leer. Esta función devuelve una lista con dichas palabras.\n",
        "## Stop.words es utilizado para no contar palabras vacias, es decir, palabras que no agregan valor o contexto al análisis.  "
      ],
      "metadata": {
        "id": "gW70DTm7-51O"
      }
    },
    {
      "cell_type": "code",
      "source": [
        "from nltk.stem.porter import PorterStemmer\n",
        "import nltk\n",
        "nltk.download('stopwords')\n",
        "from nltk.corpus import stopwords\n",
        "stop = stopwords.words('english')\n",
        "porter = PorterStemmer()\n",
        "def tokenizer_porter(text):\n",
        "    return [porter.stem(word) for word in text.split()]"
      ],
      "metadata": {
        "colab": {
          "base_uri": "https://localhost:8080/"
        },
        "id": "NMimMIQI78B0",
        "outputId": "23bb9615-4f78-4334-9250-f875d9c05d74"
      },
      "execution_count": 6,
      "outputs": [
        {
          "output_type": "stream",
          "name": "stderr",
          "text": [
            "[nltk_data] Downloading package stopwords to /root/nltk_data...\n",
            "[nltk_data]   Unzipping corpora/stopwords.zip.\n"
          ]
        }
      ]
    },
    {
      "cell_type": "code",
      "source": [
        "#tfidf se refiere a la frecuencia de terminos en una oracion.\n",
        "#TfidfVectorizerse utiliza para la transformacion del texto.\n",
        "tfidf = TfidfVectorizer(strip_accents=None,\n",
        "                        lowercase=False,\n",
        "                        preprocessor=None)\n",
        "#La penalización L2 es comúnmente utilizada en la regresión logística para evitar el sobreajuste\n",
        "# y controlar la magnitud de los coeficientes del modelo\n",
        "param_grid = [{'vect__ngram_range': [(1, 3)],\n",
        "                   'vect__stop_words': [stop],\n",
        "                   'vect__tokenizer': [tokenizer_porter],\n",
        "                   'clf__penalty': ['l2'], # anteriormente se ejecuto incluyendo penalty 'l1' pero resulto incompatible.\n",
        "                   'clf__C': [1.0, 10.0]\n",
        "                    },\n",
        "                  ]\n",
        "#La regresión logística es especialmente adecuada para el análisis de sentimientos\n",
        "# porque puede predecir la probabilidad de pertenencia a una clase por ejemplo, la probabilidad de que un comentario sea positivo, negativo,etc.\n",
        "lr_tfidf = Pipeline([('vect', tfidf),\n",
        "                     ('clf', LogisticRegression(random_state=0, max_iter=1000))]) # max_iter=1000 para que el algoritmo converga\n",
        "\n",
        "#configurar y realizar una búsqueda de hiperparámetros utilizando la técnica de validación cruzada mediante GridSearchCV\n",
        "gs_lr_tfidf = GridSearchCV(lr_tfidf, param_grid,\n",
        "                           scoring='accuracy', #scoring= 'accuracy' evaluará la precisión del modelo.\n",
        "                           cv=5,\n",
        "                           verbose=1,\n",
        "                           n_jobs=1)\n",
        "#cv=5 lo que significa es que se realizará una validación cruzada de 5-fold. Esto implica que los datos se dividirán en 5 partes iguales, y se realizarán 5 iteraciones de entrenamiento y evaluación."
      ],
      "metadata": {
        "id": "kDBG8kmS8Tsw"
      },
      "execution_count": 11,
      "outputs": []
    },
    {
      "cell_type": "code",
      "source": [
        "gs_lr_tfidf.fit(X_train, y_train)"
      ],
      "metadata": {
        "id": "8F4S5kmK9ZV7"
      },
      "execution_count": null,
      "outputs": []
    },
    {
      "cell_type": "code",
      "source": [
        "print('El mejor conjunto de parametros es : %s ' % gs_lr_tfidf.best_params_)\n",
        "print('Precision de GridSearchCV: %.3f' % gs_lr_tfidf.best_score_)"
      ],
      "metadata": {
        "colab": {
          "base_uri": "https://localhost:8080/"
        },
        "id": "xuCl7CHyQcBc",
        "outputId": "85245d36-4be4-48d2-99da-7a72abf7c3ee"
      },
      "execution_count": 13,
      "outputs": [
        {
          "output_type": "stream",
          "name": "stdout",
          "text": [
            "El mejor conjunto de parametros es : {'clf__C': 1.0, 'clf__penalty': 'l2', 'vect__ngram_range': (1, 3), 'vect__stop_words': ['i', 'me', 'my', 'myself', 'we', 'our', 'ours', 'ourselves', 'you', \"you're\", \"you've\", \"you'll\", \"you'd\", 'your', 'yours', 'yourself', 'yourselves', 'he', 'him', 'his', 'himself', 'she', \"she's\", 'her', 'hers', 'herself', 'it', \"it's\", 'its', 'itself', 'they', 'them', 'their', 'theirs', 'themselves', 'what', 'which', 'who', 'whom', 'this', 'that', \"that'll\", 'these', 'those', 'am', 'is', 'are', 'was', 'were', 'be', 'been', 'being', 'have', 'has', 'had', 'having', 'do', 'does', 'did', 'doing', 'a', 'an', 'the', 'and', 'but', 'if', 'or', 'because', 'as', 'until', 'while', 'of', 'at', 'by', 'for', 'with', 'about', 'against', 'between', 'into', 'through', 'during', 'before', 'after', 'above', 'below', 'to', 'from', 'up', 'down', 'in', 'out', 'on', 'off', 'over', 'under', 'again', 'further', 'then', 'once', 'here', 'there', 'when', 'where', 'why', 'how', 'all', 'any', 'both', 'each', 'few', 'more', 'most', 'other', 'some', 'such', 'no', 'nor', 'not', 'only', 'own', 'same', 'so', 'than', 'too', 'very', 's', 't', 'can', 'will', 'just', 'don', \"don't\", 'should', \"should've\", 'now', 'd', 'll', 'm', 'o', 're', 've', 'y', 'ain', 'aren', \"aren't\", 'couldn', \"couldn't\", 'didn', \"didn't\", 'doesn', \"doesn't\", 'hadn', \"hadn't\", 'hasn', \"hasn't\", 'haven', \"haven't\", 'isn', \"isn't\", 'ma', 'mightn', \"mightn't\", 'mustn', \"mustn't\", 'needn', \"needn't\", 'shan', \"shan't\", 'shouldn', \"shouldn't\", 'wasn', \"wasn't\", 'weren', \"weren't\", 'won', \"won't\", 'wouldn', \"wouldn't\"], 'vect__tokenizer': <function tokenizer_porter at 0x7f0f19da11b0>} \n",
            "Precision de GridSearchCV: 0.501\n"
          ]
        }
      ]
    },
    {
      "cell_type": "code",
      "source": [
        "clf = gs_lr_tfidf.best_estimator_\n",
        "print('Test de precision: %.3f' % clf.score(X_test, y_test))"
      ],
      "metadata": {
        "colab": {
          "base_uri": "https://localhost:8080/"
        },
        "id": "5aqORNMtRbmn",
        "outputId": "31f4347a-9213-46e0-e39b-121351cd23a9"
      },
      "execution_count": 14,
      "outputs": [
        {
          "output_type": "stream",
          "name": "stdout",
          "text": [
            "Test de precision: 0.508\n"
          ]
        }
      ]
    },
    {
      "cell_type": "markdown",
      "source": [
        "##<center>Reporte del modelo. <center>"
      ],
      "metadata": {
        "id": "Gx_xLYprAlOS"
      }
    },
    {
      "cell_type": "code",
      "source": [
        "from sklearn.metrics import classification_report\n",
        "y_pred = gs_lr_tfidf.predict(X_test)\n",
        "report = classification_report(y_test, y_pred)\n",
        "print(\"Informe de Clasificación:\")\n",
        "print(report)"
      ],
      "metadata": {
        "colab": {
          "base_uri": "https://localhost:8080/"
        },
        "id": "tfuoRGrmWhqL",
        "outputId": "41bed71d-a96d-455f-dbd1-6f5d59d1e42a"
      },
      "execution_count": 15,
      "outputs": [
        {
          "output_type": "stream",
          "name": "stdout",
          "text": [
            "Informe de Clasificación:\n",
            "              precision    recall  f1-score   support\n",
            "\n",
            "   Excelente       0.64      0.67      0.65      5047\n",
            "      Neutra       0.44      0.38      0.41      5036\n",
            "      Pesima       0.56      0.63      0.59      4992\n",
            "    Positiva       0.46      0.50      0.48      4966\n",
            "    negativa       0.41      0.36      0.38      4959\n",
            "\n",
            "    accuracy                           0.51     25000\n",
            "   macro avg       0.50      0.51      0.50     25000\n",
            "weighted avg       0.50      0.51      0.50     25000\n",
            "\n"
          ]
        }
      ]
    },
    {
      "cell_type": "markdown",
      "source": [
        "##  Dado que el modelo esta entrenado con reseñas en ingles, hacemos una prueba con oraciones en dicho idioma."
      ],
      "metadata": {
        "id": "A_2xdYLCCpYt"
      }
    },
    {
      "cell_type": "code",
      "source": [
        "x_p = [\"Very bad, when cooking on low heat it burns, when cooking if something is a little too much it gets stained and can not be cleaned, you have to leave the handle well outside the fire because it burns. The battery is not even a month old and that's how they are. Deplorable I would never buy again this brand of pots hudson. Very bad and the company that distributes them is clearly not responsible. They are not good for anything these pots, they burn even to fry an egg! very bad and more for what they cost.\",\n",
        "       \"The truth is that I am very happy with my purchase. Besides being very nice the material is phenomenal. I tried it and I'm more than happy haha. I recommend it, the truth is that it is not bad money.\",\n",
        "       \"Good design, good quality but the pancake holder sticks.\",\n",
        "       \"After the first use, the pans were stained. One of them was also stained at the bottom by the fire and the handle also came loose.\",\n",
        "       \"I would not buy them again. I take great care of them and wash them every time I use them, and yet they stain in a way that they just don't come out anymore. I have had them for a month and they are like that. I always put oil on them, I don't know why the stain is so impregnated. Anyway. It fulfills its function but they stain for nothing. In a few months you won't even see their granite details.\",\n",
        "       \"Very nice product, they are very nice and the food does not burn or stick. Excellent.\",\n",
        "       \"I was fascinated by the cookware set, love the color!!! I highly recommend it.\",\n",
        "       \"Very very beautiful, practical and very good quality!!! I loved it!!!.\"]\n",
        "y_p = gs_lr_tfidf.best_estimator_.predict(x_p)\n",
        "print(y_p)"
      ],
      "metadata": {
        "colab": {
          "base_uri": "https://localhost:8080/"
        },
        "id": "10rSRC6MRsum",
        "outputId": "608795ac-f45e-489a-c9a3-bc282a84dc64"
      },
      "execution_count": 16,
      "outputs": [
        {
          "output_type": "stream",
          "name": "stdout",
          "text": [
            "['Pesima' 'Excelente' 'Positiva' 'Pesima' 'negativa' 'Positiva'\n",
            " 'Excelente' 'Excelente']\n"
          ]
        }
      ]
    },
    {
      "cell_type": "markdown",
      "source": [
        "## el modelo clasifica bien las etiqutas de sentimientos, con la salvacion de que al modelo se le complica predecir las reseñas neutras. Las demas reseñas a pesar de su puntaje en precisión y en escore f-1, las resuelve de manera correcta.  "
      ],
      "metadata": {
        "id": "b1sX3C8mHhIF"
      }
    },
    {
      "cell_type": "code",
      "source": [
        "!pip install joblib"
      ],
      "metadata": {
        "colab": {
          "base_uri": "https://localhost:8080/"
        },
        "id": "BA1pK4vEaa0R",
        "outputId": "10acf63b-eb97-4ce0-9272-2ea754eb1b94"
      },
      "execution_count": 17,
      "outputs": [
        {
          "output_type": "stream",
          "name": "stdout",
          "text": [
            "Requirement already satisfied: joblib in /usr/local/lib/python3.10/dist-packages (1.3.2)\n"
          ]
        }
      ]
    },
    {
      "cell_type": "markdown",
      "source": [
        "## Al modelo le lleva mucho tiempo el entrenamiento, por lo tanto, este mismo será serializado para ser utilizado desde otro notebook o archivo y de ser necesaio, será comparado con otros modelos para precisar que modelo es el mejor para nuestra tarea.   "
      ],
      "metadata": {
        "id": "vjm9UO3dAzGZ"
      }
    },
    {
      "cell_type": "code",
      "source": [
        "import joblib\n",
        "# Guardar el mejor estimador del GridSearchCV en un archivo\n",
        "joblib.dump(gs_lr_tfidf.best_estimator_, \"Regresion_en.pkl\")\n"
      ],
      "metadata": {
        "colab": {
          "base_uri": "https://localhost:8080/"
        },
        "id": "Fvjj52LaagRU",
        "outputId": "669e58d1-4b28-4a03-a680-b27ca4e18f20"
      },
      "execution_count": 18,
      "outputs": [
        {
          "output_type": "execute_result",
          "data": {
            "text/plain": [
              "['Regresion_en.pkl']"
            ]
          },
          "metadata": {},
          "execution_count": 18
        }
      ]
    }
  ]
}